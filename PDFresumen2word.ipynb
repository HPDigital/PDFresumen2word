{
 "cells": [
  {
   "cell_type": "code",
   "execution_count": 1,
   "id": "1cd58eca-eb6c-48f3-9055-915184810cf2",
   "metadata": {},
   "outputs": [],
   "source": [
    "import fitz  # PyMuPDF\n",
    "from docx import Document\n",
    "\n",
    "def pdf_to_word(pdf_path, word_path, max_length=300):\n",
    "    # Abrir el documento PDF\n",
    "    pdf_document = fitz.open(pdf_path)\n",
    "    text = \"\"\n",
    "    \n",
    "    # Leer cada página del documento PDF\n",
    "    for page_num in range(len(pdf_document)):\n",
    "        page = pdf_document.load_page(page_num)\n",
    "        text += page.get_text()\n",
    "    \n",
    "    # Aquí puedes implementar tu lógica para resumir el texto.\n",
    "    # Para este ejemplo, simplemente truncaremos el texto a `max_length` caracteres.\n",
    "    summary = text[:max_length] + '...' if len(text) > max_length else text\n",
    "    \n",
    "    # Crear un nuevo documento Word\n",
    "    doc = Document()\n",
    "    doc.add_paragraph(summary)\n",
    "    \n",
    "    # Guardar el documento Word\n",
    "    doc.save(word_path)\n",
    "    \n",
    "    # Cerrar el documento PDF\n",
    "    pdf_document.close()\n",
    "\n",
    "# Uso del programa\n",
    "pdf_path = \"C:\\\\Users\\\\HP\\\\Downloads\\\\23 ADJTO Modelo Institucional - DIGITAL. (2).pdf\"\n",
    "word_path = \"C:\\\\Users\\\\HP\\\\Downloads\\\\23 ADJTO Modelo Institucional - DIGITAL. (2).docx\"\n",
    "pdf_to_word(pdf_path, word_path)\n"
   ]
  },
  {
   "cell_type": "code",
   "execution_count": null,
   "id": "8d9d43a6-b185-4ae2-8fda-3adbe3021772",
   "metadata": {},
   "outputs": [],
   "source": []
  }
 ],
 "metadata": {
  "kernelspec": {
   "display_name": "Python 3 (ipykernel)",
   "language": "python",
   "name": "python3"
  },
  "language_info": {
   "codemirror_mode": {
    "name": "ipython",
    "version": 3
   },
   "file_extension": ".py",
   "mimetype": "text/x-python",
   "name": "python",
   "nbconvert_exporter": "python",
   "pygments_lexer": "ipython3",
   "version": "3.11.7"
  }
 },
 "nbformat": 4,
 "nbformat_minor": 5
}
